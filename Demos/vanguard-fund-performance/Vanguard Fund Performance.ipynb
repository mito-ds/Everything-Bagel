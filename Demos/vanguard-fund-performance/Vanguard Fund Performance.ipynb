{
 "cells": [
  {
   "cell_type": "code",
   "execution_count": null,
   "id": "fcdf886d-40fb-479a-b032-12f43b61fe94",
   "metadata": {
    "jupyter": {
     "source_hidden": true
    },
    "tags": []
   },
   "outputs": [],
   "source": [
    "import pandas as pd\n",
    "from mitosheet.extensions.v1 import ColumnHeader\n",
    "\n",
    "def separate_row_on_delimiter(\n",
    "        df: pd.DataFrame, \n",
    "        attribute: ColumnHeader, \n",
    "        delimiter: str\n",
    "    ) -> pd.DataFrame:\n",
    "    # Get dtypes of original df\n",
    "    dtypes = df.dtypes\n",
    "\n",
    "    new_df = pd.DataFrame(columns = df.columns)\n",
    "\n",
    "    error_count = 0\n",
    "    for index, row in df.iterrows():\n",
    "\n",
    "        attribute_list = row[attribute].split(delimiter)\n",
    "        \n",
    "        # Filter out any empty entries\n",
    "        attribute_list = list(filter(lambda x: x != \"\", attribute_list))\n",
    "\n",
    "        for index, val in enumerate(attribute_list):\n",
    "            \n",
    "            new_row = row\n",
    "            new_row[attribute] = attribute_list[index]\n",
    "            new_df.loc[len(new_df)] = new_row\n",
    "\n",
    "    # Convert dtypes back to original dtypes\n",
    "    for col in new_df.columns:\n",
    "        new_df[col] = new_df[col].astype(dtypes[col])\n",
    "            \n",
    "    return new_df\n",
    "\n",
    "def GET_EMAIL(full_name: pd.Series):   \n",
    "    \"\"\"\n",
    "    {\n",
    "        \"function\": \"GET_EMAIL\",\n",
    "        \"description\": \"Given a name, returns their email.\",\n",
    "        \"search_terms\": [\"my_function\"],\n",
    "        \"examples\": [\n",
    "            \"GET_EMAIL('John Smith')\",\n",
    "            \"GET_EMAIL('FULL_NAME0')\"\n",
    "        ],\n",
    "        \"syntax\": \"GET_EMAIL(full_name)\",\n",
    "        \"syntax_elements\": [{\n",
    "                \"element\": \"full_name\",\n",
    "                \"description\": \"The name to lookup\"\n",
    "            }\n",
    "        ]\n",
    "    }\n",
    "    \"\"\"\n",
    "    full_name = full_name.str.replace(' ', '.') + '@vanguard.com'\n",
    "\n",
    "    return full_name\n",
    "\n",
    "def get_performance_data(username: str, password: str, year: int): \n",
    "    \"\"\"\n",
    "    Get Vangaurd fund performance data for a given year.\n",
    "\n",
    "    The data returned by this function is an edited version of this data: https://www.kaggle.com/datasets/callumrafter/vanguard-investor-fund-data?select=performance.csv\n",
    "    \"\"\"\n",
    "    performance = pd.read_csv('performance.csv')\n",
    "    \n",
    "    # Changed Date to dtype datetime\n",
    "    performance['Date'] = pd.to_datetime(performance['Date'], infer_datetime_format=True, errors='coerce')\n",
    "\n",
    "    # Filtered Date\n",
    "    performance = performance[(performance['Date'] >= pd.to_datetime(f'{year}-01-01')) & (performance['Date'] < pd.to_datetime(f'{year + 1}-01-01'))]\n",
    "    \n",
    "    performance = performance.reset_index(drop=True)\n",
    "\n",
    "    return performance"
   ]
  },
  {
   "cell_type": "code",
   "execution_count": null,
   "id": "a0688703-229e-42e5-95be-ce4f980a72d5",
   "metadata": {
    "tags": []
   },
   "outputs": [],
   "source": [
    "import mitosheet\n",
    "mitosheet.sheet(importers=[get_performance_data], editors=[separate_row_on_delimiter], sheet_functions=[GET_EMAIL], analysis_to_replay=\"id-vxkyoiyatt\")"
   ]
  },
  {
   "cell_type": "code",
   "execution_count": null,
   "id": "5d1fa01a-5944-4123-9186-aaed25258e17",
   "metadata": {},
   "outputs": [],
   "source": []
  }
 ],
 "metadata": {
  "kernelspec": {
   "display_name": "Python 3 (ipykernel)",
   "language": "python",
   "name": "python3"
  },
  "language_info": {
   "codemirror_mode": {
    "name": "ipython",
    "version": 3
   },
   "file_extension": ".py",
   "mimetype": "text/x-python",
   "name": "python",
   "nbconvert_exporter": "python",
   "pygments_lexer": "ipython3",
   "version": "3.9.9"
  }
 },
 "nbformat": 4,
 "nbformat_minor": 5
}
