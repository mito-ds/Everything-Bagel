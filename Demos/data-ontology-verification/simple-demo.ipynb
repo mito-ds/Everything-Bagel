{
 "cells": [
  {
   "cell_type": "code",
   "execution_count": null,
   "metadata": {},
   "outputs": [],
   "source": []
  }
 ],
 "metadata": {
  "kernelspec": {
   "display_name": "Python 3 (ipykernel)",
   "language": "python",
   "name": "python3"
  },
  "language_info": {
   "codemirror_mode": {
    "name": "ipython",
    "version": 3
   },
   "file_extension": ".py",
   "mimetype": "text/x-python",
   "name": "python",
   "nbconvert_exporter": "python",
   "pygments_lexer": "ipython3",
   "version": "3.9.6"
  },
  "vscode": {
   "interpreter": {
    "hash": "00a7b4e0460eef2b09171c20e8dfb0b815cd3a661c95b410da8e0626d7439143"
   }
  }
 },
 "nbformat": 4,
 "nbformat_minor": 4
}
