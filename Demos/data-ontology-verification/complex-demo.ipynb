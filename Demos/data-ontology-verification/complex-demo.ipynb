{
 "cells": [
  {
   "cell_type": "code",
   "execution_count": null,
   "id": "4e79ce88-4c62-495d-a2ce-02de1b9dbf01",
   "metadata": {
    "tags": []
   },
   "outputs": [],
   "source": [
    "import mitosheet\n",
    "import pandas as pd\n",
    "from mitosheet.extensions.v1 import ColumnHeader"
   ]
  },
  {
   "cell_type": "code",
   "execution_count": null,
   "id": "d515bd7a-bbfd-4274-8404-fec163409308",
   "metadata": {
    "tags": []
   },
   "outputs": [],
   "source": [
    "def split_invoice_field_list(\n",
    "    df: pd.DataFrame, \n",
    "    total_amount: ColumnHeader, \n",
    "    invoice_creation_date: ColumnHeader, \n",
    "    invoice_due_date: ColumnHeader, \n",
    "    isOpen: ColumnHeader, \n",
    "    delimiter: str) -> pd.DataFrame:\n",
    "\n",
    "    new_df = pd.DataFrame(columns = df.columns)\n",
    "\n",
    "    error_count = 0\n",
    "    for index, row in df.iterrows():\n",
    "        \n",
    "        # Parse cells on delimiter\n",
    "        total_amount_list = row[total_amount].split(delimiter)\n",
    "        invoice_creation_date_list = row[invoice_creation_date].split(delimiter)\n",
    "        invoice_due_date_list = row[invoice_due_date].split(delimiter)\n",
    "        isOpen_list = row[isOpen].split(delimiter)\n",
    "        \n",
    "        # Filter out any empty entries\n",
    "        total_amount_list = list(filter(lambda x: x != \"\", total_amount_list))\n",
    "        invoice_creation_date_list = list(filter(lambda x: x != \"\", invoice_creation_date_list))\n",
    "        invoice_due_date_list = list(filter(lambda x: x != \"\", invoice_due_date_list))\n",
    "        isOpen_list = list(filter(lambda x: x != \"\", isOpen_list))\n",
    "\n",
    "        for index, val in enumerate(total_amount_list):\n",
    "            \n",
    "            new_row = row \n",
    "            new_row[total_amount] = total_amount_list[index]\n",
    "            new_row[invoice_creation_date] = invoice_creation_date_list[index]\n",
    "            new_row[invoice_due_date] = invoice_due_date_list[index]\n",
    "            new_row[isOpen] = isOpen_list[index]\n",
    "\n",
    "            new_df.loc[len(new_df)] = new_row\n",
    "            \n",
    "    return new_df"
   ]
  },
  {
   "cell_type": "code",
   "execution_count": null,
   "id": "88c6489a-d9e1-4dff-9696-135cfcaeea24",
   "metadata": {
    "tags": []
   },
   "outputs": [],
   "source": [
    "mitosheet.sheet(editors=[split_invoice_field_list])"
   ]
  }
 ],
 "metadata": {
  "kernelspec": {
   "display_name": "Python 3 (ipykernel)",
   "language": "python",
   "name": "python3"
  },
  "language_info": {
   "codemirror_mode": {
    "name": "ipython",
    "version": 3
   },
   "file_extension": ".py",
   "mimetype": "text/x-python",
   "name": "python",
   "nbconvert_exporter": "python",
   "pygments_lexer": "ipython3",
   "version": "3.9.6"
  }
 },
 "nbformat": 4,
 "nbformat_minor": 5
}
