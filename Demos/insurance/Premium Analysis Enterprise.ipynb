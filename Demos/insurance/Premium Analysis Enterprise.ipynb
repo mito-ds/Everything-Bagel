{
 "cells": [
  {
   "cell_type": "markdown",
   "id": "c9690e42-922f-4ed5-8bca-7700d7a6c408",
   "metadata": {
    "tags": []
   },
   "source": [
    "# Step 0: Set up our infrastructure\n",
    "\n",
    "1. Run the code cell below to create the Humana Plan Info custom importer"
   ]
  },
  {
   "cell_type": "code",
   "execution_count": 34,
   "id": "81d73f45-76e3-4d4c-9eb8-53761f0b9124",
   "metadata": {
    "tags": []
   },
   "outputs": [],
   "source": [
    "import pandas as pd\n",
    "\n",
    "def humana_plan_info():\n",
    "    # This is an example of a custom importer. Custom importers allow Python or SQL leaders in your org \n",
    "    # to empower other Mito users to import data from various data sources without having to \n",
    "    # figure out database connections and SQL code. \n",
    "    # Learn more here: https://docs.trymito.io/how-to/importing-data-to-mito/import-generated-ui-from-any-python-function\n",
    "    \n",
    "    sheet_df_dictonary = pd.read_excel(r'Humana Plan Info.xlsx', engine='openpyxl', sheet_name=[\n",
    "        'Humana Plan Info'\n",
    "    ], skiprows=0)\n",
    "    Humana_Plan_Info = sheet_df_dictonary['Humana Plan Info']\n",
    "    \n",
    "    return Humana_Plan_Info"
   ]
  },
  {
   "cell_type": "markdown",
   "id": "c98b29e4-e93a-4eae-9799-10e8a1bfddad",
   "metadata": {
    "tags": []
   },
   "source": [
    "# Step 1: Analyze Yearly Profit \n",
    "Let's start by figuring out the total yearly profit contributed by each insurance plan that we offer \n",
    "\n",
    "0. Run the code below to create your first Mitosheet\n",
    "1. Import the Humana Book of Business by clicking `Import Files` and selecting `Humana Book of Business.csv`\n",
    "2. Import the Humana Plan Info by clicking the `Import` button in the Mito toolbar, selecting `humana_plan_info` from the dropdown and clicking import\n",
    "3. In the book of business, add a new column called `Monthly Premium` and use a `VLOOKUP` to get the Monthly Premium for each plan from the Humana Plan Info\n",
    "4. Add another a new column called `MOOP` and use a `VLOOKUP` to get the Maximum Out of Pocket for each plan\n",
    "5. Add a new column called `2023 Months Paid` and write the following formula to get find the total number of months in 2023 that the policy was active for `=IF(YEAR(APP_SUBMITTED0) == 2023, 12 - MONTH(APP_SUBMITTED0), 12)`\n",
    "6. Then, calculate the profit by creating a new column called `Profit` and writing the formula `=Monthly Premium0*2023 Months Paid0 - TOTAL MEDICAL EXPENSES0 + MOOP0`\n",
    "\n",
    "Now that we've calculated the total profit contribution of each policy, let's figure out which of our plans contributes the most profit.  \n",
    "\n",
    "\n",
    "1. Since we're only interested in current profit drivers, filter out innactive policies by converting the TERM_DATE to a datetime column and only keeping policies that don't have a TERM_DATE or a TERM_DATE that has not yet happened. \n",
    "2. Create a pivot table with the following configuration:\n",
    "    - Rows: `Plan`\n",
    "    - Columns: Leave blank\n",
    "    - Values: `Sum` of `Profit`, `Mean` of `Profit` \n",
    "3. Sort the Profit Sum column in descending order\n",
    "4. Rename the pivot table `Profit Breakdown`"
   ]
  },
  {
   "cell_type": "markdown",
   "id": "b0abc793-30cf-439c-9b9e-9e0a947ace18",
   "metadata": {
    "tags": []
   },
   "source": [
    "# Step 2: Understand Profit Drivers \n",
    "\n",
    "Now that we've identified that plan that drives the majority of our monthly profit, let's understand what channels drive signups for the plan. \n",
    "\n",
    "0. Create a new Mito Spreadsheet by clicking on the code cell below and pressing the `New Mitosheet` button in the Jupyter toolbar.\n",
    "1. Import the Humana Book of Business dataframe you created above by clicking `Import` > `Import Dataframes` and selecting the dataframe\n",
    "2. Create another pivot table with the following configuration:\n",
    "    - Rows: `Enrollment_Method`\n",
    "    - Columns: Leave blank\n",
    "    - Values: `Sum` of `Profit`\n",
    "    - Filters: where `PLAN` `contains` `<plan with highest profit>`\n",
    "3. Rename the pivot table to `profit by enrollment method`\n",
    "4. Create a graph of the pivot table"
   ]
  },
  {
   "cell_type": "code",
   "execution_count": null,
   "id": "b9fc5e47",
   "metadata": {},
   "outputs": [],
   "source": [
    "# TODO: Replace me with your Mito Spreadsheet"
   ]
  },
  {
   "cell_type": "markdown",
   "id": "2313b17a-3061-4962-a2b3-e7c073620e09",
   "metadata": {},
   "source": [
    "# Step 3: Create Excel Report\n",
    "\n",
    "Now that we've built our analysis, let's turn it into an Excel report we can share with our colleagues. \n",
    "\n",
    "0. Create a new Mito Spreadsheet by clicking on the code cell below and pressing the `New Mitosheet` button in the Jupyter toolbar.\n",
    "1. Import the following datframes: `Humana Book of Business`, `Profit Breakdown` and `profit_by_enrollment_method` \n",
    "2. Cleanup the Humana Book of Business dataframe by deleting columns you don't need: `Monthly Premium`, `MOOP`, 2023 Months Paid` \n",
    "3. Apply conditional formatting to the Profit column highlighting particularly profitable and unprofitable policies by clicking on the `Conditional Formatting` button in the Mito toolbar and configuring the taskpane.\n",
    "4. Export the Excel file by clicking `Export` and configuring the taskpane to download a formatted Excel file"
   ]
  },
  {
   "cell_type": "code",
   "execution_count": null,
   "id": "c7019c41",
   "metadata": {},
   "outputs": [],
   "source": [
    "# TODO: Replace me with your Mito Spreadsheet"
   ]
  }
 ],
 "metadata": {
  "kernelspec": {
   "display_name": "Python 3 (ipykernel)",
   "language": "python",
   "name": "python3"
  },
  "language_info": {
   "codemirror_mode": {
    "name": "ipython",
    "version": 3
   },
   "file_extension": ".py",
   "mimetype": "text/x-python",
   "name": "python",
   "nbconvert_exporter": "python",
   "pygments_lexer": "ipython3",
   "version": "3.9.6"
  }
 },
 "nbformat": 4,
 "nbformat_minor": 5
}
